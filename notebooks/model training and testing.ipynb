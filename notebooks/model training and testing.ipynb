{
 "cells": [
  {
   "cell_type": "code",
   "execution_count": 1,
   "metadata": {},
   "outputs": [
    {
     "data": {
      "text/html": [
       "<div>\n",
       "<style scoped>\n",
       "    .dataframe tbody tr th:only-of-type {\n",
       "        vertical-align: middle;\n",
       "    }\n",
       "\n",
       "    .dataframe tbody tr th {\n",
       "        vertical-align: top;\n",
       "    }\n",
       "\n",
       "    .dataframe thead th {\n",
       "        text-align: right;\n",
       "    }\n",
       "</style>\n",
       "<table border=\"1\" class=\"dataframe\">\n",
       "  <thead>\n",
       "    <tr style=\"text-align: right;\">\n",
       "      <th></th>\n",
       "      <th>occupation</th>\n",
       "      <th>category</th>\n",
       "      <th>name</th>\n",
       "      <th>article</th>\n",
       "    </tr>\n",
       "  </thead>\n",
       "  <tbody>\n",
       "    <tr>\n",
       "      <th>0</th>\n",
       "      <td>aviators</td>\n",
       "      <td>0</td>\n",
       "      <td>Aaron_Buerge</td>\n",
       "      <td>aaron grant buerg born april 1974 unit state a...</td>\n",
       "    </tr>\n",
       "    <tr>\n",
       "      <th>1</th>\n",
       "      <td>aviators</td>\n",
       "      <td>0</td>\n",
       "      <td>Adam_Housley</td>\n",
       "      <td>arthur adam housley born august 1971 emmi awar...</td>\n",
       "    </tr>\n",
       "    <tr>\n",
       "      <th>2</th>\n",
       "      <td>aviators</td>\n",
       "      <td>0</td>\n",
       "      <td>Aida_de_Acosta</td>\n",
       "      <td>aida acosta root breckinridg juli 1884 1962 am...</td>\n",
       "    </tr>\n",
       "    <tr>\n",
       "      <th>3</th>\n",
       "      <td>aviators</td>\n",
       "      <td>0</td>\n",
       "      <td>Albert_Scott_Crossfield</td>\n",
       "      <td>albert scott crossfield octob 1921 april 2006 ...</td>\n",
       "    </tr>\n",
       "    <tr>\n",
       "      <th>4</th>\n",
       "      <td>aviators</td>\n",
       "      <td>0</td>\n",
       "      <td>Alex_Henshaw</td>\n",
       "      <td>alexand adolphu dumfri henshaw postnomin count...</td>\n",
       "    </tr>\n",
       "  </tbody>\n",
       "</table>\n",
       "</div>"
      ],
      "text/plain": [
       "  occupation  category                     name  \\\n",
       "0   aviators         0             Aaron_Buerge   \n",
       "1   aviators         0             Adam_Housley   \n",
       "2   aviators         0           Aida_de_Acosta   \n",
       "3   aviators         0  Albert_Scott_Crossfield   \n",
       "4   aviators         0             Alex_Henshaw   \n",
       "\n",
       "                                             article  \n",
       "0  aaron grant buerg born april 1974 unit state a...  \n",
       "1  arthur adam housley born august 1971 emmi awar...  \n",
       "2  aida acosta root breckinridg juli 1884 1962 am...  \n",
       "3  albert scott crossfield octob 1921 april 2006 ...  \n",
       "4  alexand adolphu dumfri henshaw postnomin count...  "
      ]
     },
     "execution_count": 1,
     "metadata": {},
     "output_type": "execute_result"
    }
   ],
   "source": [
    "import pandas as pd\n",
    "df_train = pd.read_csv('../data/data_train.csv')\n",
    "df_test = pd.read_csv('../data/data_test.csv')\n",
    "df_train.head()"
   ]
  },
  {
   "cell_type": "code",
   "execution_count": 2,
   "metadata": {},
   "outputs": [
    {
     "data": {
      "text/html": [
       "<div>\n",
       "<style scoped>\n",
       "    .dataframe tbody tr th:only-of-type {\n",
       "        vertical-align: middle;\n",
       "    }\n",
       "\n",
       "    .dataframe tbody tr th {\n",
       "        vertical-align: top;\n",
       "    }\n",
       "\n",
       "    .dataframe thead th {\n",
       "        text-align: right;\n",
       "    }\n",
       "</style>\n",
       "<table border=\"1\" class=\"dataframe\">\n",
       "  <thead>\n",
       "    <tr style=\"text-align: right;\">\n",
       "      <th></th>\n",
       "      <th>occupation</th>\n",
       "      <th>category</th>\n",
       "      <th>name</th>\n",
       "      <th>article</th>\n",
       "    </tr>\n",
       "  </thead>\n",
       "  <tbody>\n",
       "    <tr>\n",
       "      <th>0</th>\n",
       "      <td>aviators</td>\n",
       "      <td>0</td>\n",
       "      <td>Aaron_Buerge</td>\n",
       "      <td>aaron grant buerg born april 1974 unit state a...</td>\n",
       "    </tr>\n",
       "    <tr>\n",
       "      <th>1</th>\n",
       "      <td>aviators</td>\n",
       "      <td>0</td>\n",
       "      <td>Adam_Housley</td>\n",
       "      <td>arthur adam housley born august 1971 emmi awar...</td>\n",
       "    </tr>\n",
       "    <tr>\n",
       "      <th>2</th>\n",
       "      <td>aviators</td>\n",
       "      <td>0</td>\n",
       "      <td>Aida_de_Acosta</td>\n",
       "      <td>aida acosta root breckinridg juli 1884 1962 am...</td>\n",
       "    </tr>\n",
       "    <tr>\n",
       "      <th>3</th>\n",
       "      <td>aviators</td>\n",
       "      <td>0</td>\n",
       "      <td>Albert_Scott_Crossfield</td>\n",
       "      <td>albert scott crossfield octob 1921 april 2006 ...</td>\n",
       "    </tr>\n",
       "    <tr>\n",
       "      <th>4</th>\n",
       "      <td>aviators</td>\n",
       "      <td>0</td>\n",
       "      <td>Alex_Henshaw</td>\n",
       "      <td>alexand adolphu dumfri henshaw postnomin count...</td>\n",
       "    </tr>\n",
       "  </tbody>\n",
       "</table>\n",
       "</div>"
      ],
      "text/plain": [
       "  occupation  category                     name  \\\n",
       "0   aviators         0             Aaron_Buerge   \n",
       "1   aviators         0             Adam_Housley   \n",
       "2   aviators         0           Aida_de_Acosta   \n",
       "3   aviators         0  Albert_Scott_Crossfield   \n",
       "4   aviators         0             Alex_Henshaw   \n",
       "\n",
       "                                             article  \n",
       "0  aaron grant buerg born april 1974 unit state a...  \n",
       "1  arthur adam housley born august 1971 emmi awar...  \n",
       "2  aida acosta root breckinridg juli 1884 1962 am...  \n",
       "3  albert scott crossfield octob 1921 april 2006 ...  \n",
       "4  alexand adolphu dumfri henshaw postnomin count...  "
      ]
     },
     "execution_count": 2,
     "metadata": {},
     "output_type": "execute_result"
    }
   ],
   "source": [
    "category_id_df = df_train[['occupation', 'category']].drop_duplicates().sort_values('category')\n",
    "category_to_id = dict(category_id_df.values)\n",
    "id_to_category = dict(category_id_df[['category', 'occupation']].values)\n",
    "df_train.head()"
   ]
  },
  {
   "cell_type": "code",
   "execution_count": 4,
   "metadata": {
    "scrolled": false
   },
   "outputs": [
    {
     "data": {
      "image/png": "[encoded data removed]",
      "text/plain": [
       "<Figure size 576x432 with 1 Axes>"
      ]
     },
     "metadata": {
      "needs_background": "light"
     },
     "output_type": "display_data"
    }
   ],
   "source": [
    "import matplotlib.pyplot as plt\n",
    "fig = plt.figure(figsize=(8,6))\n",
    "df_train.groupby('occupation').article.count().plot.bar(ylim=0)\n",
    "plt.show()"
   ]
  },
  {
   "cell_type": "code",
   "execution_count": 5,
   "metadata": {},
   "outputs": [
    {
     "data": {
      "image/png": "[encoded data removed]",
      "text/plain": [
       "<Figure size 576x432 with 1 Axes>"
      ]
     },
     "metadata": {
      "needs_background": "light"
     },
     "output_type": "display_data"
    }
   ],
   "source": [
    "fig = plt.figure(figsize=(8,6))\n",
    "df_test.groupby('occupation').article.count().plot.bar(ylim=0)\n",
    "plt.show()"
   ]
  },
  {
   "cell_type": "code",
   "execution_count": 12,
   "metadata": {},
   "outputs": [
    {
     "data": {
      "text/plain": [
       "(450, 7784)"
      ]
     },
     "execution_count": 12,
     "metadata": {},
     "output_type": "execute_result"
    }
   ],
   "source": [
    "from sklearn.feature_extraction.text import TfidfVectorizer\n",
    "tfidf = TfidfVectorizer(sublinear_tf=True, min_df=5, norm='l2', encoding='latin-1', ngram_range=(1, 2), stop_words='english')\n",
    "features = tfidf.fit_transform(df_train.article.values.astype('U')).toarray()\n",
    "labels = df_train.category\n",
    "features.shape"
   ]
  },
  {
   "cell_type": "code",
   "execution_count": 13,
   "metadata": {},
   "outputs": [
    {
     "name": "stdout",
     "output_type": "stream",
     "text": [
      "# 'aviators':\n",
      "  . Most correlated unigrams:\n",
      ". aircraft\n",
      ". aviat\n",
      "  . Most correlated bigrams:\n",
      ". test pilot\n",
      ". pilot licens\n",
      "# 'cartoonists':\n",
      "  . Most correlated unigrams:\n",
      ". strip\n",
      ". cartoonist\n",
      "  . Most correlated bigrams:\n",
      ". comic book\n",
      ". comic strip\n",
      "# 'comedians':\n",
      "  . Most correlated unigrams:\n",
      ". comedian\n",
      ". comedi\n",
      "  . Most correlated bigrams:\n",
      ". standup comedi\n",
      ". standup comedian\n"
     ]
    }
   ],
   "source": [
    "from sklearn.feature_selection import chi2\n",
    "import numpy as np\n",
    "N = 2\n",
    "for occupation, category in sorted(category_to_id.items()):\n",
    "  features_chi2 = chi2(features, labels == category)\n",
    "  indices = np.argsort(features_chi2[0])\n",
    "  feature_names = np.array(tfidf.get_feature_names())[indices]\n",
    "  unigrams = [v for v in feature_names if len(v.split(' ')) == 1]\n",
    "  bigrams = [v for v in feature_names if len(v.split(' ')) == 2]\n",
    "  print(\"# '{}':\".format(occupation))\n",
    "  print(\"  . Most correlated unigrams:\\n. {}\".format('\\n. '.join(unigrams[-N:])))\n",
    "  print(\"  . Most correlated bigrams:\\n. {}\".format('\\n. '.join(bigrams[-N:])))"
   ]
  },
  {
   "cell_type": "code",
   "execution_count": 14,
   "metadata": {},
   "outputs": [],
   "source": [
    "from sklearn.model_selection import train_test_split\n",
    "from sklearn.feature_extraction.text import CountVectorizer\n",
    "from sklearn.feature_extraction.text import TfidfTransformer\n",
    "from sklearn.naive_bayes import MultinomialNB\n",
    "X_train, X_test, y_train, y_test = train_test_split(df_train['article'], df_train['occupation'], random_state = 0)\n",
    "count_vect = CountVectorizer()\n",
    "X_train_counts = count_vect.fit_transform(X_train.values.astype('U'))\n",
    "tfidf_transformer = TfidfTransformer()\n",
    "X_train_tfidf = tfidf_transformer.fit_transform(X_train_counts)\n",
    "clf = MultinomialNB().fit(X_train_tfidf, y_train)"
   ]
  },
  {
   "cell_type": "code",
   "execution_count": 15,
   "metadata": {},
   "outputs": [
    {
     "name": "stdout",
     "output_type": "stream",
     "text": [
      "Name:  Roland_Garros\n",
      "Occupation:  ['aviators']\n",
      "Name:  Charles_Chic_Sale\n",
      "Occupation:  ['comedians']\n",
      "Name:  Peyo\n",
      "Occupation:  ['cartoonists']\n"
     ]
    }
   ],
   "source": [
    "data = [df_test.article[50]]\n",
    "print(\"Name: \",df_test.name[50])\n",
    "print(\"Occupation: \",clf.predict(count_vect.transform(data)))\n",
    "data = [df_test.article[100]]\n",
    "print(\"Name: \",df_test.name[100])\n",
    "print(\"Occupation: \",clf.predict(count_vect.transform(data)))\n",
    "data = [df_test.article[1020]]\n",
    "print(\"Name: \",df_test.name[1020])\n",
    "print(\"Occupation: \",clf.predict(count_vect.transform(data)))"
   ]
  },
  {
   "cell_type": "code",
   "execution_count": 16,
   "metadata": {},
   "outputs": [
    {
     "name": "stdout",
     "output_type": "stream",
     "text": [
      "Ted Key (born Theodore Keyser; August 25, 1912 – May 3, 2008),\n",
      "was an United States American cartoonist and writer.  He is best known as the creator of the cartoon panel Hazel (comic strip) Hazel, which was later the basis for a Hazel (TV series) television series of the same name, and also the creator of Mister Peabody Peabodys Improbable History. \n",
      "\n",
      "==College to cartoons==\n",
      "Born in Fresno, California, Key was the son of Latvian immigrant Simon Keyser, who had changed his name from Katseff to Keyser, and then to \"Key\" during World War I.\n",
      "\n",
      "Occupation:  ['cartoonists']\n"
     ]
    }
   ],
   "source": [
    "data = \"\"\"Ted Key (born Theodore Keyser; August 25, 1912 – May 3, 2008),\n",
    "was an United States American cartoonist and writer.  He is best known as the creator of the cartoon panel Hazel (comic strip) Hazel, which was later the basis for a Hazel (TV series) television series of the same name, and also the creator of Mister Peabody Peabodys Improbable History. \n",
    "\n",
    "==College to cartoons==\n",
    "Born in Fresno, California, Key was the son of Latvian immigrant Simon Keyser, who had changed his name from Katseff to Keyser, and then to \"Key\" during World War I.\n",
    "\"\"\"\n",
    "print(data)\n",
    "print(\"Occupation: \",clf.predict(count_vect.transform([data])))"
   ]
  },
  {
   "cell_type": "code",
   "execution_count": 18,
   "metadata": {},
   "outputs": [
    {
     "name": "stderr",
     "output_type": "stream",
     "text": [
      "c:\\users\\shrey\\desktop\\people-occupations-classifier\\venv\\lib\\site-packages\\sklearn\\linear_model\\logistic.py:432: FutureWarning: Default solver will be changed to 'lbfgs' in 0.22. Specify a solver to silence this warning.\n",
      "  FutureWarning)\n",
      "c:\\users\\shrey\\desktop\\people-occupations-classifier\\venv\\lib\\site-packages\\sklearn\\linear_model\\logistic.py:459: FutureWarning: Default multi_class will be changed to 'auto' in 0.22. Specify the multi_class option to silence this warning.\n",
      "  \"this warning.\", FutureWarning)\n",
      "c:\\users\\shrey\\desktop\\people-occupations-classifier\\venv\\lib\\site-packages\\sklearn\\linear_model\\logistic.py:432: FutureWarning: Default solver will be changed to 'lbfgs' in 0.22. Specify a solver to silence this warning.\n",
      "  FutureWarning)\n",
      "c:\\users\\shrey\\desktop\\people-occupations-classifier\\venv\\lib\\site-packages\\sklearn\\linear_model\\logistic.py:459: FutureWarning: Default multi_class will be changed to 'auto' in 0.22. Specify the multi_class option to silence this warning.\n",
      "  \"this warning.\", FutureWarning)\n",
      "c:\\users\\shrey\\desktop\\people-occupations-classifier\\venv\\lib\\site-packages\\sklearn\\linear_model\\logistic.py:432: FutureWarning: Default solver will be changed to 'lbfgs' in 0.22. Specify a solver to silence this warning.\n",
      "  FutureWarning)\n",
      "c:\\users\\shrey\\desktop\\people-occupations-classifier\\venv\\lib\\site-packages\\sklearn\\linear_model\\logistic.py:459: FutureWarning: Default multi_class will be changed to 'auto' in 0.22. Specify the multi_class option to silence this warning.\n",
      "  \"this warning.\", FutureWarning)\n",
      "c:\\users\\shrey\\desktop\\people-occupations-classifier\\venv\\lib\\site-packages\\sklearn\\linear_model\\logistic.py:432: FutureWarning: Default solver will be changed to 'lbfgs' in 0.22. Specify a solver to silence this warning.\n",
      "  FutureWarning)\n",
      "c:\\users\\shrey\\desktop\\people-occupations-classifier\\venv\\lib\\site-packages\\sklearn\\linear_model\\logistic.py:459: FutureWarning: Default multi_class will be changed to 'auto' in 0.22. Specify the multi_class option to silence this warning.\n",
      "  \"this warning.\", FutureWarning)\n",
      "c:\\users\\shrey\\desktop\\people-occupations-classifier\\venv\\lib\\site-packages\\sklearn\\linear_model\\logistic.py:432: FutureWarning: Default solver will be changed to 'lbfgs' in 0.22. Specify a solver to silence this warning.\n",
      "  FutureWarning)\n",
      "c:\\users\\shrey\\desktop\\people-occupations-classifier\\venv\\lib\\site-packages\\sklearn\\linear_model\\logistic.py:459: FutureWarning: Default multi_class will be changed to 'auto' in 0.22. Specify the multi_class option to silence this warning.\n",
      "  \"this warning.\", FutureWarning)\n"
     ]
    },
    {
     "data": {
      "image/png": "[encoded data removed]",
      "text/plain": [
       "<Figure size 432x288 with 1 Axes>"
      ]
     },
     "metadata": {
      "needs_background": "light"
     },
     "output_type": "display_data"
    }
   ],
   "source": [
    "from sklearn.linear_model import LogisticRegression\n",
    "from sklearn.ensemble import RandomForestClassifier\n",
    "from sklearn.svm import LinearSVC\n",
    "from sklearn.model_selection import cross_val_score\n",
    "models = [\n",
    "    RandomForestClassifier(n_estimators=200, max_depth=3, random_state=0),\n",
    "    LinearSVC(),\n",
    "    MultinomialNB(),\n",
    "    LogisticRegression(random_state=0),\n",
    "]\n",
    "CV = 5\n",
    "cv_df = pd.DataFrame(index=range(CV * len(models)))\n",
    "entries = []\n",
    "for model in models:\n",
    "  model_name = model.__class__.__name__\n",
    "  accuracies = cross_val_score(model, features, labels, scoring='accuracy', cv=CV)\n",
    "  for fold_idx, accuracy in enumerate(accuracies):\n",
    "    entries.append((model_name, fold_idx, accuracy))\n",
    "cv_df = pd.DataFrame(entries, columns=['model_name', 'fold_idx', 'accuracy'])\n",
    "import seaborn as sns\n",
    "sns.boxplot(x='model_name', y='accuracy', data=cv_df)\n",
    "sns.stripplot(x='model_name', y='accuracy', data=cv_df, \n",
    "              size=8, jitter=True, edgecolor=\"gray\", linewidth=2)\n",
    "plt.show()"
   ]
  },
  {
   "cell_type": "code",
   "execution_count": 20,
   "metadata": {},
   "outputs": [
    {
     "data": {
      "text/plain": [
       "model_name\n",
       "LinearSVC                 0.948889\n",
       "LogisticRegression        0.933333\n",
       "MultinomialNB             0.917778\n",
       "RandomForestClassifier    0.915556\n",
       "Name: accuracy, dtype: float64"
      ]
     },
     "execution_count": 20,
     "metadata": {},
     "output_type": "execute_result"
    }
   ],
   "source": [
    "cv_df.groupby('model_name').accuracy.mean()"
   ]
  },
  {
   "cell_type": "code",
   "execution_count": 26,
   "metadata": {},
   "outputs": [
    {
     "data": {
      "image/png": "[encoded data removed]",
      "text/plain": [
       "<Figure size 720x720 with 2 Axes>"
      ]
     },
     "metadata": {
      "needs_background": "light"
     },
     "output_type": "display_data"
    }
   ],
   "source": [
    "model = LinearSVC()\n",
    "X_train, X_test, y_train, y_test, indices_train, indices_test = train_test_split(features, labels, df_train.index, test_size=0.33, random_state=0)\n",
    "model.fit(X_train, y_train)\n",
    "y_pred = model.predict(X_test)\n",
    "from sklearn.metrics import confusion_matrix\n",
    "conf_mat = confusion_matrix(y_test, y_pred)\n",
    "fig, ax = plt.subplots(figsize=(10,10))\n",
    "sns.heatmap(conf_mat, annot=True, fmt='d',\n",
    "            xticklabels=category_id_df.occupation.values, yticklabels=category_id_df.occupation.values)\n",
    "plt.ylabel('Actual')\n",
    "plt.xlabel('Predicted')\n",
    "plt.show()"
   ]
  },
  {
   "cell_type": "code",
   "execution_count": 28,
   "metadata": {},
   "outputs": [
    {
     "name": "stdout",
     "output_type": "stream",
     "text": [
      "              precision    recall  f1-score   support\n",
      "\n",
      "    aviators       0.96      0.94      0.95        49\n",
      "   comedians       0.94      1.00      0.97        49\n",
      " cartoonists       1.00      0.96      0.98        51\n",
      "\n",
      "   micro avg       0.97      0.97      0.97       149\n",
      "   macro avg       0.97      0.97      0.97       149\n",
      "weighted avg       0.97      0.97      0.97       149\n",
      "\n"
     ]
    }
   ],
   "source": [
    "from sklearn import metrics\n",
    "print(metrics.classification_report(y_test, y_pred, target_names=df_train['occupation'].unique()))"
   ]
  }
 ],
 "metadata": {
  "kernelspec": {
   "display_name": "people_classifier",
   "language": "python",
   "name": "people_classifier"
  },
  "language_info": {
   "codemirror_mode": {
    "name": "ipython",
    "version": 3
   },
   "file_extension": ".py",
   "mimetype": "text/x-python",
   "name": "python",
   "nbconvert_exporter": "python",
   "pygments_lexer": "ipython3",
   "version": "3.6.5"
  }
 },
 "nbformat": 4,
 "nbformat_minor": 2
}
